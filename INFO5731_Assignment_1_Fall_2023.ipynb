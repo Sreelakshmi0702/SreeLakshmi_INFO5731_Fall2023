{
  "cells": [
    {
      "cell_type": "markdown",
      "metadata": {
        "id": "view-in-github",
        "colab_type": "text"
      },
      "source": [
        "<a href=\"https://colab.research.google.com/github/Sreelakshmi0702/SreeLakshmi_INFO5731_Fall2023/blob/main/INFO5731_Assignment_1_Fall_2023.ipynb\" target=\"_parent\"><img src=\"https://colab.research.google.com/assets/colab-badge.svg\" alt=\"Open In Colab\"/></a>"
      ]
    },
    {
      "cell_type": "markdown",
      "metadata": {
        "id": "Ryk8D1Q4Wsrp"
      },
      "source": [
        "# **INFO5731 Assignment One**"
      ]
    },
    {
      "cell_type": "markdown",
      "metadata": {
        "id": "90_NR8c5XGWc"
      },
      "source": [
        "# Question 1\n",
        "\n",
        "(20 points). Write a Python program to generate 12 random numbers between 1 and 100. Sort the list of numbers in ascending order and print it out. Sort the list of numbers in descending order and print it out. Calculate the average for the group and print it out."
      ]
    },
    {
      "cell_type": "code",
      "execution_count": 1,
      "metadata": {
        "id": "5QX6bJjGWXY9",
        "colab": {
          "base_uri": "https://localhost:8080/"
        },
        "outputId": "85345fdc-7890-480b-e10c-30dbd2c7c426"
      },
      "outputs": [
        {
          "output_type": "stream",
          "name": "stdout",
          "text": [
            "generate 12 random numbers from 1 to 100:  [71, 86, 76, 43, 21, 94, 65, 85, 27, 100, 6, 23]\n",
            "list of numbers in ascending order:  [6, 21, 23, 27, 43, 65, 71, 76, 85, 86, 94, 100]\n",
            "list of numbers in descending order:  [100, 94, 86, 85, 76, 71, 65, 43, 27, 23, 21, 6]\n",
            "average of the given list:  58.083333333333336\n"
          ]
        }
      ],
      "source": [
        "# Your code here\n",
        "import random\n",
        "def rand(start, end, n):\n",
        "  result=[]\n",
        "  for i in range(n):\n",
        "    result.append(random.randint(start, end))\n",
        "  return result\n",
        "\n",
        "n=12\n",
        "start=1\n",
        "end=100\n",
        "\n",
        "list=rand(start, end, n)\n",
        "print(\"generate 12 random numbers from 1 to 100: \", list)\n",
        "\n",
        "list.sort()\n",
        "print(\"list of numbers in ascending order: \",list)\n",
        "\n",
        "list.sort(reverse=True)\n",
        "print(\"list of numbers in descending order: \",list)\n",
        "\n",
        "average=sum(list)/len(list)\n",
        "print(\"average of the given list: \", average)\n"
      ]
    },
    {
      "cell_type": "markdown",
      "metadata": {
        "id": "1F_PZdH9Sh49"
      },
      "source": [
        "# Question 2\n",
        "(25 points).\n",
        "\n",
        "Write a program that will do the following string formatting tasks:\n",
        "\n",
        "(1) Ask the user to enter two sentences.\n",
        "\n",
        "(2) Make each sentence into a list. Each element in the list should correspond to a word in the sentence. For example, if the sentence is \"Alas! Am I alive? This is my first python program\", the program should print out ['Alas, '!', 'Am', 'I', 'alive, '?', 'This', 'is', 'my', 'first', 'python', 'program'].\n",
        "\n",
        "(3) Compare the two sentences. Print out a list of words that occur in both sentences.\n",
        "\n",
        "(4) Remove any punctuation from the sentence and print it back out. It should remove at least the following characters, but it can remove more: period(“.”), comma (“,”), semicolon (“;”), and colon (“:”)\n",
        "\n",
        "(5) Count the number of vowels in the sentences. Print out each vowel and the number of times it appears in the sentences, such as: a:2, e:1, i:0, etc"
      ]
    },
    {
      "cell_type": "code",
      "execution_count": 2,
      "metadata": {
        "id": "Y0oOSlsOS0cq",
        "colab": {
          "base_uri": "https://localhost:8080/"
        },
        "outputId": "04c05a34-8fee-40eb-c45c-53cefe322550"
      },
      "outputs": [
        {
          "output_type": "stream",
          "name": "stdout",
          "text": [
            "enter sentence 1 :hello\n",
            "enter sentence 2 :ow are you\n",
            "['hello']\n",
            "['ow', 'are', 'you']\n",
            "[]\n",
            "hello ow are you\n",
            "a:1,e:2,i:0,o:3,u:1\n"
          ]
        }
      ],
      "source": [
        "from string import punctuation\n",
        "# Your code here\n",
        "sen1 = str(input(\"enter sentence 1 :\"))\n",
        "sen2 = str(input(\"enter sentence 2 :\"))\n",
        "\n",
        "print(sen1.split())\n",
        "print(sen2.split())\n",
        "\n",
        "c=[]\n",
        "for i in sen1.split():\n",
        "  if(i in sen2):\n",
        "    c.append(i)\n",
        "print(c)\n",
        "\n",
        "sen=\" \".join([sen1, sen2])\n",
        "punctuations = ''' . , ; : ! ? '''\n",
        "for j in sen.lower():\n",
        "  if j in punctuations:\n",
        "    sen=sen.replace(j, \" \")\n",
        "print(sen)\n",
        "\n",
        "c1, c2, c3, c4, c5= 0, 0, 0, 0, 0\n",
        "d=['a', 'e', 'i', 'o', 'u']\n",
        "for sen in (sen1 + sen2):\n",
        "  for k in sen:\n",
        "    if(k=='a'):\n",
        "      c1 +=1\n",
        "    elif(k=='e'):\n",
        "      c2 +=1\n",
        "    elif(k=='i'):\n",
        "      c3 +=1\n",
        "    elif(k=='o'):\n",
        "      c4 +=1\n",
        "    elif(k=='u'):\n",
        "      c5 +=1\n",
        "print('a' + ':' +str(c1)+','+'e' + ':' +str(c2)+ ','+'i' + ':' +str(c3)+ ','+\n",
        "      'o' + ':' +str(c4)+','+ 'u' + ':' +str(c5))\n",
        "\n"
      ]
    },
    {
      "cell_type": "markdown",
      "metadata": {
        "id": "CmFoI4jDS9nx"
      },
      "source": [
        "# Question 3\n",
        "\n",
        "(15 points). The formula that describes the volume V of a sphere with radius r is the following:\n",
        "\n",
        "$ V=\\frac{4}{3}\\ast\\ \\pi\\ast\\ r^3 $\n",
        "\n",
        "Write a program to calculate the value of V when r is in the range of 1–10. Output the result in the following format:\n",
        "\n",
        "\tr\tV\n",
        "\t1\t…\n",
        "\t2\t…\n",
        "\t3\t…\n"
      ]
    },
    {
      "cell_type": "code",
      "execution_count": 3,
      "metadata": {
        "id": "pEyqeioAT95b",
        "colab": {
          "base_uri": "https://localhost:8080/"
        },
        "outputId": "d9f8ab45-c0f1-4f67-b1ff-bcf21e58b10a"
      },
      "outputs": [
        {
          "output_type": "stream",
          "name": "stdout",
          "text": [
            "radius r: 1  volume: 4.1887902047863905\n",
            "radius r: 2  volume: 33.510321638291124\n",
            "radius r: 3  volume: 113.09733552923254\n",
            "radius r: 4  volume: 268.082573106329\n",
            "radius r: 5  volume: 523.5987755982989\n",
            "radius r: 6  volume: 904.7786842338603\n",
            "radius r: 7  volume: 1436.7550402417319\n",
            "radius r: 8  volume: 2144.660584850632\n",
            "radius r: 9  volume: 3053.6280592892786\n"
          ]
        }
      ],
      "source": [
        "import math\n",
        "for r in range(1, 10):\n",
        "  volume=(4/3)*math.pi*(r**3)\n",
        "  print(\"radius r:\", r ,\" volume:\",volume)\n",
        "\n"
      ]
    },
    {
      "cell_type": "markdown",
      "metadata": {
        "id": "z3tBE7E-Xn5X"
      },
      "source": [
        "# Question 4\n",
        "\n",
        "(40 points). In the field of Data Science, data is often formatted as a comma-delimited (CSV) file, where each line in a file corresponds to a field's value. Refer to Chapter 9 (p. 106) for more information on comma-delimited files. To answer this question, you will need to download the file [Assignment1_denton_housing.csv](https://raw.githubusercontent.com/unt-iialab/info5731-spring2022/main/assignments/Assignment1_denton_housing.csv) included with this assignment. The file [Assignment1_denton_housing.csv](https://raw.githubusercontent.com/unt-iialab/info5731-spring2022/main/assignments/Assignment1_denton_housing.csv) contains statistics about housing in the city of Denton from 2008 to 2014. Write a program to implement the following questions.\n",
        "\n",
        "(1) (10 pts) Calculate the difference in the number of Occupied Housing Units from year to year and print it. The difference must be calculated for the consecutive years such as 2008-2009, 2009-2010 etc. Finally, print the values in the ascending order.\n",
        "\n",
        "(2) (10 pts) For all the years, calculate the percentage of housing units which are vacant an occupied. Print the results in the following format:\n",
        "\n",
        "Year Vacant Housing Units Occupied Housing Units\n",
        "\n",
        "    2008  30%   70%                          \n",
        "\t2009 ----- -----\n",
        "\t2010 ----- -----\n",
        "    2011 ----- -----\n",
        "\t2012 ----- -----\n",
        "    2013 ----- -----\n",
        "\t2014 ----- -----\n",
        "  \n",
        "  \n",
        "\n",
        "(3) (10 pts) Calculate and print the valued and years in which the highest number of housing units were vacant and occupied. Print the results in the following format:  \n",
        "\n",
        "                              Year\tValue\n",
        "\tVacant Housing Units\t  -----   -----\n",
        "\tOccupied Housing Units\t-----   -----\n",
        "\n",
        "(4) (10 pts) Calculate the harmonic mean of the total housing units and print it out. You can find the information about harmonic mean here: https://ncalculators.com/statistics/harmonic-mean-calculator.htm"
      ]
    },
    {
      "cell_type": "code",
      "execution_count": 35,
      "metadata": {
        "id": "lqGYuHBhcsRH",
        "colab": {
          "base_uri": "https://localhost:8080/",
          "height": 206
        },
        "outputId": "ea6a6a87-46bc-4e08-cc66-9e99fff2fb3f"
      },
      "outputs": [
        {
          "output_type": "execute_result",
          "data": {
            "text/plain": [
              "   year             title_field  value\n",
              "0  2014     Total Housing Units  49109\n",
              "1  2014    Vacant Housing Units   2814\n",
              "2  2014  Occupied Housing Units  46295\n",
              "3  2013     Total Housing Units  47888\n",
              "4  2013    Vacant Housing Units   4215"
            ],
            "text/html": [
              "\n",
              "  <div id=\"df-dd500ebd-f03b-42b6-95d4-2a3607535570\" class=\"colab-df-container\">\n",
              "    <div>\n",
              "<style scoped>\n",
              "    .dataframe tbody tr th:only-of-type {\n",
              "        vertical-align: middle;\n",
              "    }\n",
              "\n",
              "    .dataframe tbody tr th {\n",
              "        vertical-align: top;\n",
              "    }\n",
              "\n",
              "    .dataframe thead th {\n",
              "        text-align: right;\n",
              "    }\n",
              "</style>\n",
              "<table border=\"1\" class=\"dataframe\">\n",
              "  <thead>\n",
              "    <tr style=\"text-align: right;\">\n",
              "      <th></th>\n",
              "      <th>year</th>\n",
              "      <th>title_field</th>\n",
              "      <th>value</th>\n",
              "    </tr>\n",
              "  </thead>\n",
              "  <tbody>\n",
              "    <tr>\n",
              "      <th>0</th>\n",
              "      <td>2014</td>\n",
              "      <td>Total Housing Units</td>\n",
              "      <td>49109</td>\n",
              "    </tr>\n",
              "    <tr>\n",
              "      <th>1</th>\n",
              "      <td>2014</td>\n",
              "      <td>Vacant Housing Units</td>\n",
              "      <td>2814</td>\n",
              "    </tr>\n",
              "    <tr>\n",
              "      <th>2</th>\n",
              "      <td>2014</td>\n",
              "      <td>Occupied Housing Units</td>\n",
              "      <td>46295</td>\n",
              "    </tr>\n",
              "    <tr>\n",
              "      <th>3</th>\n",
              "      <td>2013</td>\n",
              "      <td>Total Housing Units</td>\n",
              "      <td>47888</td>\n",
              "    </tr>\n",
              "    <tr>\n",
              "      <th>4</th>\n",
              "      <td>2013</td>\n",
              "      <td>Vacant Housing Units</td>\n",
              "      <td>4215</td>\n",
              "    </tr>\n",
              "  </tbody>\n",
              "</table>\n",
              "</div>\n",
              "    <div class=\"colab-df-buttons\">\n",
              "\n",
              "  <div class=\"colab-df-container\">\n",
              "    <button class=\"colab-df-convert\" onclick=\"convertToInteractive('df-dd500ebd-f03b-42b6-95d4-2a3607535570')\"\n",
              "            title=\"Convert this dataframe to an interactive table.\"\n",
              "            style=\"display:none;\">\n",
              "\n",
              "  <svg xmlns=\"http://www.w3.org/2000/svg\" height=\"24px\" viewBox=\"0 -960 960 960\">\n",
              "    <path d=\"M120-120v-720h720v720H120Zm60-500h600v-160H180v160Zm220 220h160v-160H400v160Zm0 220h160v-160H400v160ZM180-400h160v-160H180v160Zm440 0h160v-160H620v160ZM180-180h160v-160H180v160Zm440 0h160v-160H620v160Z\"/>\n",
              "  </svg>\n",
              "    </button>\n",
              "\n",
              "  <style>\n",
              "    .colab-df-container {\n",
              "      display:flex;\n",
              "      gap: 12px;\n",
              "    }\n",
              "\n",
              "    .colab-df-convert {\n",
              "      background-color: #E8F0FE;\n",
              "      border: none;\n",
              "      border-radius: 50%;\n",
              "      cursor: pointer;\n",
              "      display: none;\n",
              "      fill: #1967D2;\n",
              "      height: 32px;\n",
              "      padding: 0 0 0 0;\n",
              "      width: 32px;\n",
              "    }\n",
              "\n",
              "    .colab-df-convert:hover {\n",
              "      background-color: #E2EBFA;\n",
              "      box-shadow: 0px 1px 2px rgba(60, 64, 67, 0.3), 0px 1px 3px 1px rgba(60, 64, 67, 0.15);\n",
              "      fill: #174EA6;\n",
              "    }\n",
              "\n",
              "    .colab-df-buttons div {\n",
              "      margin-bottom: 4px;\n",
              "    }\n",
              "\n",
              "    [theme=dark] .colab-df-convert {\n",
              "      background-color: #3B4455;\n",
              "      fill: #D2E3FC;\n",
              "    }\n",
              "\n",
              "    [theme=dark] .colab-df-convert:hover {\n",
              "      background-color: #434B5C;\n",
              "      box-shadow: 0px 1px 3px 1px rgba(0, 0, 0, 0.15);\n",
              "      filter: drop-shadow(0px 1px 2px rgba(0, 0, 0, 0.3));\n",
              "      fill: #FFFFFF;\n",
              "    }\n",
              "  </style>\n",
              "\n",
              "    <script>\n",
              "      const buttonEl =\n",
              "        document.querySelector('#df-dd500ebd-f03b-42b6-95d4-2a3607535570 button.colab-df-convert');\n",
              "      buttonEl.style.display =\n",
              "        google.colab.kernel.accessAllowed ? 'block' : 'none';\n",
              "\n",
              "      async function convertToInteractive(key) {\n",
              "        const element = document.querySelector('#df-dd500ebd-f03b-42b6-95d4-2a3607535570');\n",
              "        const dataTable =\n",
              "          await google.colab.kernel.invokeFunction('convertToInteractive',\n",
              "                                                    [key], {});\n",
              "        if (!dataTable) return;\n",
              "\n",
              "        const docLinkHtml = 'Like what you see? Visit the ' +\n",
              "          '<a target=\"_blank\" href=https://colab.research.google.com/notebooks/data_table.ipynb>data table notebook</a>'\n",
              "          + ' to learn more about interactive tables.';\n",
              "        element.innerHTML = '';\n",
              "        dataTable['output_type'] = 'display_data';\n",
              "        await google.colab.output.renderOutput(dataTable, element);\n",
              "        const docLink = document.createElement('div');\n",
              "        docLink.innerHTML = docLinkHtml;\n",
              "        element.appendChild(docLink);\n",
              "      }\n",
              "    </script>\n",
              "  </div>\n",
              "\n",
              "\n",
              "<div id=\"df-7926dba1-c7d1-49af-9a33-98e617419476\">\n",
              "  <button class=\"colab-df-quickchart\" onclick=\"quickchart('df-7926dba1-c7d1-49af-9a33-98e617419476')\"\n",
              "            title=\"Suggest charts.\"\n",
              "            style=\"display:none;\">\n",
              "\n",
              "<svg xmlns=\"http://www.w3.org/2000/svg\" height=\"24px\"viewBox=\"0 0 24 24\"\n",
              "     width=\"24px\">\n",
              "    <g>\n",
              "        <path d=\"M19 3H5c-1.1 0-2 .9-2 2v14c0 1.1.9 2 2 2h14c1.1 0 2-.9 2-2V5c0-1.1-.9-2-2-2zM9 17H7v-7h2v7zm4 0h-2V7h2v10zm4 0h-2v-4h2v4z\"/>\n",
              "    </g>\n",
              "</svg>\n",
              "  </button>\n",
              "\n",
              "<style>\n",
              "  .colab-df-quickchart {\n",
              "      --bg-color: #E8F0FE;\n",
              "      --fill-color: #1967D2;\n",
              "      --hover-bg-color: #E2EBFA;\n",
              "      --hover-fill-color: #174EA6;\n",
              "      --disabled-fill-color: #AAA;\n",
              "      --disabled-bg-color: #DDD;\n",
              "  }\n",
              "\n",
              "  [theme=dark] .colab-df-quickchart {\n",
              "      --bg-color: #3B4455;\n",
              "      --fill-color: #D2E3FC;\n",
              "      --hover-bg-color: #434B5C;\n",
              "      --hover-fill-color: #FFFFFF;\n",
              "      --disabled-bg-color: #3B4455;\n",
              "      --disabled-fill-color: #666;\n",
              "  }\n",
              "\n",
              "  .colab-df-quickchart {\n",
              "    background-color: var(--bg-color);\n",
              "    border: none;\n",
              "    border-radius: 50%;\n",
              "    cursor: pointer;\n",
              "    display: none;\n",
              "    fill: var(--fill-color);\n",
              "    height: 32px;\n",
              "    padding: 0;\n",
              "    width: 32px;\n",
              "  }\n",
              "\n",
              "  .colab-df-quickchart:hover {\n",
              "    background-color: var(--hover-bg-color);\n",
              "    box-shadow: 0 1px 2px rgba(60, 64, 67, 0.3), 0 1px 3px 1px rgba(60, 64, 67, 0.15);\n",
              "    fill: var(--button-hover-fill-color);\n",
              "  }\n",
              "\n",
              "  .colab-df-quickchart-complete:disabled,\n",
              "  .colab-df-quickchart-complete:disabled:hover {\n",
              "    background-color: var(--disabled-bg-color);\n",
              "    fill: var(--disabled-fill-color);\n",
              "    box-shadow: none;\n",
              "  }\n",
              "\n",
              "  .colab-df-spinner {\n",
              "    border: 2px solid var(--fill-color);\n",
              "    border-color: transparent;\n",
              "    border-bottom-color: var(--fill-color);\n",
              "    animation:\n",
              "      spin 1s steps(1) infinite;\n",
              "  }\n",
              "\n",
              "  @keyframes spin {\n",
              "    0% {\n",
              "      border-color: transparent;\n",
              "      border-bottom-color: var(--fill-color);\n",
              "      border-left-color: var(--fill-color);\n",
              "    }\n",
              "    20% {\n",
              "      border-color: transparent;\n",
              "      border-left-color: var(--fill-color);\n",
              "      border-top-color: var(--fill-color);\n",
              "    }\n",
              "    30% {\n",
              "      border-color: transparent;\n",
              "      border-left-color: var(--fill-color);\n",
              "      border-top-color: var(--fill-color);\n",
              "      border-right-color: var(--fill-color);\n",
              "    }\n",
              "    40% {\n",
              "      border-color: transparent;\n",
              "      border-right-color: var(--fill-color);\n",
              "      border-top-color: var(--fill-color);\n",
              "    }\n",
              "    60% {\n",
              "      border-color: transparent;\n",
              "      border-right-color: var(--fill-color);\n",
              "    }\n",
              "    80% {\n",
              "      border-color: transparent;\n",
              "      border-right-color: var(--fill-color);\n",
              "      border-bottom-color: var(--fill-color);\n",
              "    }\n",
              "    90% {\n",
              "      border-color: transparent;\n",
              "      border-bottom-color: var(--fill-color);\n",
              "    }\n",
              "  }\n",
              "</style>\n",
              "\n",
              "  <script>\n",
              "    async function quickchart(key) {\n",
              "      const quickchartButtonEl =\n",
              "        document.querySelector('#' + key + ' button');\n",
              "      quickchartButtonEl.disabled = true;  // To prevent multiple clicks.\n",
              "      quickchartButtonEl.classList.add('colab-df-spinner');\n",
              "      try {\n",
              "        const charts = await google.colab.kernel.invokeFunction(\n",
              "            'suggestCharts', [key], {});\n",
              "      } catch (error) {\n",
              "        console.error('Error during call to suggestCharts:', error);\n",
              "      }\n",
              "      quickchartButtonEl.classList.remove('colab-df-spinner');\n",
              "      quickchartButtonEl.classList.add('colab-df-quickchart-complete');\n",
              "    }\n",
              "    (() => {\n",
              "      let quickchartButtonEl =\n",
              "        document.querySelector('#df-7926dba1-c7d1-49af-9a33-98e617419476 button');\n",
              "      quickchartButtonEl.style.display =\n",
              "        google.colab.kernel.accessAllowed ? 'block' : 'none';\n",
              "    })();\n",
              "  </script>\n",
              "</div>\n",
              "    </div>\n",
              "  </div>\n"
            ]
          },
          "metadata": {},
          "execution_count": 35
        }
      ],
      "source": [
        "# 1Answer\n",
        "# Your code here\n",
        "import statistics\n",
        "import pandas as pd\n",
        "\n",
        "df = pd.read_csv(\"/content/Assignment1_denton_housing.csv\")\n",
        "df.head()\n",
        "\n",
        "\n"
      ]
    },
    {
      "cell_type": "code",
      "source": [
        "df = df.sort_values(by='year')\n",
        "occupied_housing_units = df[df['title_field'] == 'Occupied Housing Units'].copy()\n",
        "\n",
        "occupied_housing_units['Occupied Housing Units Difference'] = occupied_housing_units['value'].diff()\n",
        "\n",
        "differences = occupied_housing_units[['year', 'Occupied Housing Units Difference']].dropna().astype({'year': int})\n",
        "differences.sort_values(by='Occupied Housing Units Difference', ascending=True, inplace=True)\n",
        "\n",
        "for index, row in differences.iterrows():\n",
        "    start_year = row['year']\n",
        "    end_year = int(start_year) + 1\n",
        "    diff = int(row['Occupied Housing Units Difference'])\n",
        "    print(f\"{int(start_year)}-{end_year}: {diff}\")\n"
      ],
      "metadata": {
        "colab": {
          "base_uri": "https://localhost:8080/"
        },
        "id": "Z65RSdWAdxpV",
        "outputId": "c6d28b80-4800-4a79-f4dc-a30795fbec41"
      },
      "execution_count": 36,
      "outputs": [
        {
          "output_type": "stream",
          "name": "stdout",
          "text": [
            "2009-2010: -795\n",
            "2011-2012: -303\n",
            "2012-2013: 1404\n",
            "2013-2014: 1565\n",
            "2014-2015: 2622\n",
            "2010-2011: 5091\n"
          ]
        }
      ]
    },
    {
      "cell_type": "code",
      "execution_count": 37,
      "metadata": {
        "id": "4Llap2sdW1x9",
        "colab": {
          "base_uri": "https://localhost:8080/",
          "height": 245
        },
        "outputId": "7e36c21b-7b22-4e5f-d4a8-eb69d6bc703c"
      },
      "outputs": [
        {
          "output_type": "error",
          "ename": "TypeError",
          "evalue": "ignored",
          "traceback": [
            "\u001b[0;31m---------------------------------------------------------------------------\u001b[0m",
            "\u001b[0;31mTypeError\u001b[0m                                 Traceback (most recent call last)",
            "\u001b[0;32m<ipython-input-37-6ce9cec685fc>\u001b[0m in \u001b[0;36m<cell line: 2>\u001b[0;34m()\u001b[0m\n\u001b[1;32m      1\u001b[0m \u001b[0;31m# 3\u001b[0m\u001b[0;34m\u001b[0m\u001b[0;34m\u001b[0m\u001b[0m\n\u001b[0;32m----> 2\u001b[0;31m \u001b[0munique_years\u001b[0m \u001b[0;34m=\u001b[0m \u001b[0msorted\u001b[0m\u001b[0;34m(\u001b[0m\u001b[0mlist\u001b[0m\u001b[0;34m(\u001b[0m\u001b[0mdf\u001b[0m\u001b[0;34m[\u001b[0m\u001b[0;34m'year'\u001b[0m\u001b[0;34m]\u001b[0m\u001b[0;34m.\u001b[0m\u001b[0munique\u001b[0m\u001b[0;34m(\u001b[0m\u001b[0;34m)\u001b[0m\u001b[0;34m)\u001b[0m\u001b[0;34m)\u001b[0m\u001b[0;34m\u001b[0m\u001b[0;34m\u001b[0m\u001b[0m\n\u001b[0m\u001b[1;32m      3\u001b[0m \u001b[0;34m\u001b[0m\u001b[0m\n\u001b[1;32m      4\u001b[0m \u001b[0;31m# Filtering the DataFrame for occupied housing units and sort by year\u001b[0m\u001b[0;34m\u001b[0m\u001b[0;34m\u001b[0m\u001b[0m\n\u001b[1;32m      5\u001b[0m \u001b[0moccupied_houses\u001b[0m \u001b[0;34m=\u001b[0m \u001b[0mdf\u001b[0m\u001b[0;34m[\u001b[0m\u001b[0mdf\u001b[0m\u001b[0;34m[\u001b[0m\u001b[0;34m'title_field'\u001b[0m\u001b[0;34m]\u001b[0m \u001b[0;34m==\u001b[0m \u001b[0;34m'Occupied Housing Units'\u001b[0m\u001b[0;34m]\u001b[0m\u001b[0;34m.\u001b[0m\u001b[0msort_values\u001b[0m\u001b[0;34m(\u001b[0m\u001b[0mby\u001b[0m\u001b[0;34m=\u001b[0m\u001b[0;34m[\u001b[0m\u001b[0;34m'year'\u001b[0m\u001b[0;34m]\u001b[0m\u001b[0;34m)\u001b[0m\u001b[0;34m\u001b[0m\u001b[0;34m\u001b[0m\u001b[0m\n",
            "\u001b[0;31mTypeError\u001b[0m: 'list' object is not callable"
          ]
        }
      ],
      "source": [
        "# 3\n",
        "unique_years = sorted(list(df['year'].unique()))\n",
        "\n",
        "# Filtering the DataFrame for occupied housing units and sort by year\n",
        "occupied_houses = df[df['title_field'] == 'Occupied Housing Units'].sort_values(by=['year'])\n",
        "\n",
        "# Filtering the DataFrame for vacant housing units and sort by year\n",
        "vacant_houses = df[df['title_field'] == 'Vacant Housing Units'].sort_values(by=['year'])\n",
        "\n",
        "# Creating a new DataFrame to store the results\n",
        "new_house_df = pd.DataFrame()\n",
        "new_house_df['year'] = unique_years\n",
        "new_house_df['Vacant House'] = vacant_houses['value'].values\n",
        "new_house_df['Occupied House'] = occupied_houses['value'].values\n",
        "\n",
        "# Calculating the percentage of vacant and occupied houses\n",
        "new_house_df['Percent of Vacant House'] = [(new_house_df['Vacant House'][i] * 100) /\n",
        "                                            (new_house_df['Vacant House'][i] + new_house_df['Occupied House'][i])\n",
        "                                            for i in range(len(new_house_df))]\n",
        "\n",
        "new_house_df['Percent of Occupied House'] = [(new_house_df['Occupied House'][i] * 100) /\n",
        "                                              (new_house_df['Vacant House'][i] + new_house_df['Occupied House'][i])\n",
        "                                              for i in range(len(new_house_df))]\n",
        "\n",
        "# Print the resulting DataFrame\n",
        "new_house_df"
      ]
    },
    {
      "cell_type": "code",
      "source": [
        "# Filteing the DataFrame to select only 'Total Housing Units', 'Vacant Housing Units', and 'Occupied Housing Units'\n",
        "filtered_df = df[df['title_field'].isin(['Total Housing Units', 'Vacant Housing Units', 'Occupied Housing Units'])]\n",
        "\n",
        "# Pivoting the DataFrame to have years as columns and 'title_field' as values\n",
        "pivot_df = filtered_df.pivot(index='year', columns='title_field', values='value')\n",
        "\n",
        "# Calculating the total housing units for each year\n",
        "pivot_df['Total Housing Units'] = pivot_df['Vacant Housing Units'] + pivot_df['Occupied Housing Units']\n",
        "\n",
        "# Calculating the percentage of vacant and occupied housing units for each year\n",
        "pivot_df['Vacant Housing Units Percentage'] = (pivot_df['Vacant Housing Units'] / pivot_df['Total Housing Units']) * 100\n",
        "pivot_df['Occupied Housing Units Percentage'] = (pivot_df['Occupied Housing Units'] / pivot_df['Total Housing Units']) * 100\n",
        "\n",
        "# Printing the result with proper formatting\n",
        "result_df = pivot_df[['Vacant Housing Units Percentage', 'Occupied Housing Units Percentage']].reset_index()\n",
        "result_df.columns = ['Year', 'Vacant Housing Units', 'Occupied Housing Units']\n",
        "\n",
        "print(result_df.to_string(index=False, na_rep='-----', float_format='%.0f%%'))"
      ],
      "metadata": {
        "colab": {
          "base_uri": "https://localhost:8080/"
        },
        "id": "smI7XM9ghEfI",
        "outputId": "3b8caed5-a052-496d-f2d7-d43ec6235921"
      },
      "execution_count": 38,
      "outputs": [
        {
          "output_type": "stream",
          "name": "stdout",
          "text": [
            " Year  Vacant Housing Units  Occupied Housing Units\n",
            " 2008                   11%                     89%\n",
            " 2009                    9%                     91%\n",
            " 2010                    8%                     92%\n",
            " 2011                    9%                     91%\n",
            " 2012                    7%                     93%\n",
            " 2013                    9%                     91%\n",
            " 2014                    6%                     94%\n"
          ]
        }
      ]
    },
    {
      "cell_type": "markdown",
      "source": [
        "Question 4 (3)"
      ],
      "metadata": {
        "id": "yDXGOeW8hY99"
      }
    },
    {
      "cell_type": "code",
      "source": [
        "pivot_df = df.pivot(index='year', columns='title_field', values='value')\n",
        "\n",
        "# Calculating the year with the highest number of vacant housing units\n",
        "year_with_highest_vacant_units = pivot_df['Vacant Housing Units'].idxmax()\n",
        "highest_vacant_units = pivot_df['Vacant Housing Units'].max()\n",
        "\n",
        "# Calculating the year with the highest number of occupied housing units\n",
        "year_with_highest_occupied_units = pivot_df['Occupied Housing Units'].idxmax()\n",
        "highest_occupied_units = pivot_df['Occupied Housing Units'].max()\n",
        "\n",
        "# Creating a DataFrame for the results\n",
        "result_df = pd.DataFrame({\n",
        "    'Year': [year_with_highest_vacant_units, year_with_highest_occupied_units],\n",
        "    'Value': [highest_vacant_units, highest_occupied_units]\n",
        "})\n",
        "\n",
        "result_df.index = ['Vacant Housing Units', 'Occupied Housing Units']\n",
        "print(result_df.to_string(index=True, header=True))"
      ],
      "metadata": {
        "colab": {
          "base_uri": "https://localhost:8080/"
        },
        "id": "leX7YuvChP29",
        "outputId": "0131ade9-692b-4b62-955f-1e4140b1d830"
      },
      "execution_count": 39,
      "outputs": [
        {
          "output_type": "stream",
          "name": "stdout",
          "text": [
            "                        Year  Value\n",
            "Vacant Housing Units    2008   4483\n",
            "Occupied Housing Units  2014  46295\n"
          ]
        }
      ]
    },
    {
      "cell_type": "code",
      "source": [
        "import statistics\n",
        "total_housing_units = df[df['title_field'] == 'Total Housing Units']['value'].tolist()\n",
        "harmonic_mean = statistics.harmonic_mean(total_housing_units)\n",
        "print(\"Harmonic Mean of Total Housing Units:\", harmonic_mean)"
      ],
      "metadata": {
        "colab": {
          "base_uri": "https://localhost:8080/"
        },
        "id": "sxXRnOe6heol",
        "outputId": "6cbe48ff-bcbf-4cfc-8d5c-6fd59e7b3403"
      },
      "execution_count": 40,
      "outputs": [
        {
          "output_type": "stream",
          "name": "stdout",
          "text": [
            "Harmonic Mean of Total Housing Units: 44398.28543969185\n"
          ]
        }
      ]
    },
    {
      "cell_type": "code",
      "source": [],
      "metadata": {
        "id": "6nG0i4Xzhl6k"
      },
      "execution_count": null,
      "outputs": []
    }
  ],
  "metadata": {
    "colab": {
      "provenance": [],
      "include_colab_link": true
    },
    "kernelspec": {
      "display_name": "Python 3 (ipykernel)",
      "language": "python",
      "name": "python3"
    },
    "language_info": {
      "codemirror_mode": {
        "name": "ipython",
        "version": 3
      },
      "file_extension": ".py",
      "mimetype": "text/x-python",
      "name": "python",
      "nbconvert_exporter": "python",
      "pygments_lexer": "ipython3",
      "version": "3.10.9"
    }
  },
  "nbformat": 4,
  "nbformat_minor": 0
}